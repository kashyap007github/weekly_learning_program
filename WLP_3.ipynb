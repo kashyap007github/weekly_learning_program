{
 "cells": [
  {
   "cell_type": "markdown",
   "id": "04eed4b3-5bd3-41d9-8cb5-289e0937a076",
   "metadata": {},
   "source": [
    "# Weekly Learning Program (08/June/24 - 14/June/24)"
   ]
  },
  {
   "cell_type": "markdown",
   "id": "e9460981-9395-4246-acfd-58435c41c691",
   "metadata": {},
   "source": [
    "### Where to Solve the SQL Questions?\n",
    "\n",
    "* I will provide the dataset along with the questions.\n",
    "* You can use the following website to practice the SQL questions: [Programiz SQL Compiler](https://www.programiz.com/sql/online-compiler/)\n",
    "* Please paste your solutions into the Jupyter notebook."
   ]
  },
  {
   "cell_type": "markdown",
   "id": "ebc81359-6acc-447b-9864-d0f62b604b51",
   "metadata": {},
   "source": [
    "## SQL question"
   ]
  },
  {
   "cell_type": "markdown",
   "id": "dcb5068e-ddbd-49bc-bb5d-a7134af8533a",
   "metadata": {},
   "source": [
    "### 1. (interview asked question)\n",
    "\n",
    "A group of friends wants to book consecutive available seats at a cinema. Can you write a query to find all the consecutive available seats ordered by seat_id using the following cinema table?\n",
    "\n",
    "```sql\n",
    "CREATE TABLE cinema (\n",
    "    seat_id INT PRIMARY KEY,\n",
    "    free BIT\n",
    ");\n",
    "\n",
    "INSERT INTO cinema (seat_id, free) VALUES\n",
    "(1, 0),\n",
    "(2, 0),\n",
    "(3, 1),\n",
    "(4, 1),\n",
    "(5, 0),\n",
    "(6, 1),\n",
    "(7, 1),\n",
    "(8, 1),\n",
    "(9, 0),\n",
    "(10, 1),\n",
    "(11, 0),\n",
    "(12, 1),\n",
    "(13, 1),\n",
    "(14, 1),\n",
    "(15, 1),\n",
    "(16, 1),\n",
    "(17, 0),\n",
    "(18, 0),\n",
    "(19, 1),\n",
    "(20, 0),\n",
    "(21, 1),\n",
    "(22, 0),\n",
    "(23, 1),\n",
    "(24, 1),\n",
    "(25, 1),\n",
    "(26, 1),\n",
    "(27, 1),\n",
    "(28, 0),\n",
    "(29, 1),\n",
    "(30, 1),\n",
    "(31, 1),\n",
    "(32, 1),\n",
    "(33, 1),\n",
    "(34, 0),\n",
    "(35, 1),\n",
    "(36, 1),\n",
    "(37, 0),\n",
    "(38, 0),\n",
    "(39, 1),\n",
    "(40, 1);\n",
    "```\n",
    "\n",
    "The query should return the following result for the sample case provided:\n",
    "\n",
    "| seat_id |\n",
    "|---------|\n",
    "| 3       |\n",
    "| 4       |\n",
    "| 6       |\n",
    "| 7       |\n",
    "| 8       |\n",
    "| 12      |\n",
    "| 13      |\n",
    "| 14      |\n",
    "| 15      |\n",
    "| 16      |\n",
    "| 23      |\n",
    "| 24      |\n",
    "| 25      |\n",
    "| 26      |\n",
    "| 27      |\n",
    "| 29      |\n",
    "| 30      |\n",
    "| 31      |\n",
    "| 32      |\n",
    "| 33      |\n",
    "| 35      |\n",
    "| 36      |\n",
    "| 39      |\n",
    "| 40      |"
   ]
  },
  {
   "cell_type": "markdown",
   "id": "e283097a-e6a4-4d72-94fc-b79a04880cb1",
   "metadata": {},
   "source": [
    "* solution here\n",
    "\n",
    "``` sql\n",
    "with \n",
    "base as \n",
    "(\n",
    "    select seat_id,free,row_number() over( order by seat_id) seat_rank,\n",
    "           seat_id - row_number() over( order by seat_id) diff\n",
    "    from Cinema\n",
    "    where free = 1\n",
    " ), \n",
    " repeat as\n",
    " (\n",
    "  \tselect seat_id,count() over(partition by diff) no_of_repeat\n",
    "\tfrom base\n",
    ")\n",
    "select seat_id\n",
    "from repeat\n",
    "where no_of_repeat > 1\n",
    "```"
   ]
  },
  {
   "cell_type": "markdown",
   "id": "ecebf3df-0928-47ec-85b5-5148e75dfd29",
   "metadata": {},
   "source": [
    "### 2. (interview asked question)\n",
    "\n",
    "Given a table named `tree`, where `id` is the identifier of the tree node and `p_id` is the parent node's identifier, each node in the tree can be one of three types:\n",
    "\n",
    "- **Root**: A node that has no parent (`p_id` is NULL).\n",
    "- **Leaf**: A node that has no children.\n",
    "- **Inner**: A node that is neither a root nor a leaf (it has both a parent and at least one child).\n",
    "\n",
    "Write a query to print the node `id` and the type of the node. Sort your output by the node `id`.\n",
    "\n",
    "Here is a visual representation of the tree structure:\n",
    "\n",
    "```\n",
    "      1\n",
    "     / \\\n",
    "    2   3\n",
    "   / \\ / \\\n",
    "  4  5 6  7\n",
    " / \\  |\n",
    "8   9 10\n",
    "\n",
    "     13\n",
    "     / \\\n",
    "   14  15\n",
    "   / \\  / \\\n",
    " 16  17 18 19\n",
    "\n",
    "      20\n",
    "     /  \\\n",
    "   21    22\n",
    "   |      |\n",
    "  23     24\n",
    "```\n",
    "\n",
    "### Explanation\n",
    "\n",
    "- **Root Nodes**: Nodes that have no parent (e.g., 1, 13, 20).\n",
    "- **Leaf Nodes**: Nodes that have no children (e.g., 6, 7, 8, 9, 10, 11, 12, 16, 17, 18, 19, 23, 24).\n",
    "- **Inner Nodes**: Nodes that have both a parent and at least one child (e.g., 2, 3, 4, 5, 14, 15, 21, 22).\n",
    "\n",
    "### Sample Data for SSMS\n",
    "\n",
    "```sql\n",
    "\n",
    "CREATE TABLE tree (\n",
    "    id INT PRIMARY KEY,\n",
    "    p_id INT NULL\n",
    ");\n",
    "\n",
    "INSERT INTO tree (id, p_id) VALUES\n",
    "(1, NULL),  -- Root node (implied)\n",
    "(2, 1),     -- Inner node (implied)\n",
    "(3, 1),     -- Inner node (implied)\n",
    "(4, 2),     -- Leaf node (implied)\n",
    "(5, 2),     -- Leaf node (implied)\n",
    "(6, 3),     -- Inner node (implied)\n",
    "(7, 6),     -- Leaf node (implied)\n",
    "(8, 6);     -- Leaf node (implied)\n",
    "\n",
    "```"
   ]
  },
  {
   "cell_type": "markdown",
   "id": "c7748d1a-13d7-4605-826f-ba286704ca3d",
   "metadata": {},
   "source": [
    "* solution here\n",
    "\n",
    "``` sql\n",
    "with \n",
    "base as\n",
    "(\n",
    "  select distinct l.id,l.p_id left_p_id,r.p_id right_p_id\n",
    "  from Tree l\n",
    "  left join Tree r\n",
    "  on l.id = r.p_id\n",
    " )\n",
    " select id , case when left_p_id is null then 'root_node'\n",
    "                  when right_p_id is null then 'leaf_node'\n",
    "             else 'Inner_node'\n",
    "             end as node_type\n",
    " from base \n",
    "```"
   ]
  },
  {
   "cell_type": "markdown",
   "id": "d4dda537-8f60-4632-9fc5-5cdc623d9430",
   "metadata": {},
   "source": [
    "### 3.(interview asked question)\n",
    "\n",
    "Mary is a teacher in a middle school and she has a table `seat` storing students' names and their corresponding seat ids. The `id` column is continuously incrementing. Mary wants to swap seats for the adjacent students. Can you write a SQL query to output the result for Mary?\n",
    "\n",
    "\n",
    "```sql\n",
    "-- Create the seat table and insert sample data\n",
    "CREATE TABLE seat (\n",
    "    id INT PRIMARY KEY,\n",
    "    student VARCHAR(255)\n",
    ");\n",
    "\n",
    "INSERT INTO seat (id, student) VALUES\n",
    "(1, 'Abbot'),\n",
    "(2, 'Doris'),\n",
    "(3, 'Emerson'),\n",
    "(4, 'Green'),\n",
    "(5, 'Jeames');\n",
    "```\n",
    "\n",
    "### Explanation\n",
    "\n",
    "- The students with adjacent `id` values need to swap seats.\n",
    "- If the number of students is odd, the last student's seat does not need to be changed.\n",
    "\n",
    "### Expected Result\n",
    "\n",
    "For the sample input provided, the expected output is:\n",
    "\n",
    "| id | student |\n",
    "|----|---------|\n",
    "| 1  | Doris   |\n",
    "| 2  | Abbot   |\n",
    "| 3  | Green   |\n",
    "| 4  | Emerson |\n",
    "| 5  | Jeames  |\n",
    "\n",
    "```sql\n",
    "-- Expected result for the provided sample data\n",
    "/*\n",
    "+----+---------+\n",
    "| id | student |\n",
    "+----+---------+\n",
    "| 1  | Doris   |\n",
    "| 2  | Abbot   |\n",
    "| 3  | Green   |\n",
    "| 4  | Emerson |\n",
    "| 5  | Jeames  |\n",
    "+----+---------+\n",
    "*/\n",
    "```"
   ]
  },
  {
   "cell_type": "markdown",
   "id": "6bb37b7e-c2bc-4222-94da-478f0692a98c",
   "metadata": {},
   "source": [
    "``` sql\n",
    "select id,case \n",
    "\t\t\twhen (id%2 <> 0 and lead(student) over(order by id) is not null) \n",
    "                 then lead(student) over(order by id) \n",
    "            else  lag(student) over(order by id) \n",
    "            end as swap_student\n",
    "                 \n",
    "from seat\n",
    "\n",
    "```"
   ]
  },
  {
   "cell_type": "markdown",
   "id": "a8e18f9b-437d-4e20-85ef-d8e0ef6252ac",
   "metadata": {},
   "source": [
    "## NUMPY, PANDAS and SKLEARN"
   ]
  },
  {
   "cell_type": "markdown",
   "id": "097e6ee5-faea-4757-93b5-6583d4eb4d19",
   "metadata": {},
   "source": [
    "### STOPWORDS"
   ]
  },
  {
   "cell_type": "markdown",
   "id": "5025dd47-a5b2-4a8b-ae92-fd9eb230cd7d",
   "metadata": {},
   "source": [
    "In machine learning, particularly in natural language processing, \"stop words\" are common words (e.g., \"the\", \"and\", \"in\") that are often removed from text data. They have little value in distinguishing content and are filtered out to improve processing efficiency and model performance. For example, in the sentence \"The quick brown fox jumps over the lazy dog,\" removing stop words results in \"quick brown fox jumps lazy dog.\" Libraries like NLTK in Python provide tools to easily remove stop words during text preprocessing."
   ]
  },
  {
   "cell_type": "markdown",
   "id": "1db5b93c-66c1-411a-961f-ae87913bc80c",
   "metadata": {},
   "source": [
    "* \"In the last WLP session, we solved a sample BOW problem without using any libraries. Now, let's see how to tackle it using a Python library.\""
   ]
  },
  {
   "cell_type": "code",
   "execution_count": 43,
   "id": "23c188df-eeef-4083-8d85-c416d6a0bd1e",
   "metadata": {},
   "outputs": [],
   "source": [
    "## PLease use a lot of apply and lambda function to get used to these"
   ]
  },
  {
   "cell_type": "markdown",
   "id": "0558f1a4-7bfb-450c-a825-c70282f4f092",
   "metadata": {},
   "source": [
    "### Let's solve this using python libraries"
   ]
  },
  {
   "cell_type": "code",
   "execution_count": 40,
   "id": "01e2240e-2248-4619-b4d2-13384afd43f0",
   "metadata": {},
   "outputs": [],
   "source": [
    "data = {\n",
    "    'text': [\n",
    "        \"Check out this link: https://example.com, it has some great info!\",\n",
    "        \"Python 3.9.1 is the latest version of Python, released in December 2020.\",\n",
    "        \"Email me at example@example.com for more details. #exciting\",\n",
    "        \"The price is $1000, and it's worth every penny! Visit http://shop.com.\",\n",
    "        \"Contact us at +1-800-555-5555 or visit our website.\"\n",
    "    ]\n",
    "}\n",
    "df = pd.DataFrame(data)"
   ]
  },
  {
   "cell_type": "code",
   "execution_count": 41,
   "id": "afef7e83-e595-463a-a4c2-b59908a527d8",
   "metadata": {},
   "outputs": [
    {
     "name": "stdout",
     "output_type": "stream",
     "text": [
      "                                                text\n",
      "0  check out this link example com it has some gr...\n",
      "1  python is the latest version of python release...\n",
      "2  email me at example example com for more detai...\n",
      "3  the price is and it s worth every penny visit ...\n",
      "4                contact us at or visit our website \n"
     ]
    }
   ],
   "source": [
    "#Clean the dataframe\n",
    "import re\n",
    "import cleantext  #Please explore library to clean the text data\n",
    "\n",
    "def clean_text(string):\n",
    "    string = re.sub(r'<.*?>',' ',string)   #remove html tags\n",
    "    string = re.sub(r'[^A-Za-z]',' ',string)  # remove non words\n",
    "    string = re.sub(r'http\\S+|www\\S+$\\.com',' ',string)     # remove urls\n",
    "    string = re.sub(r'\\s+',' ',string)\n",
    "    string = string.lower()\n",
    "    return string\n",
    "\n",
    "df['text'] = df['text'].apply(lambda x : clean_text(x))\n",
    "print(df)"
   ]
  },
  {
   "cell_type": "code",
   "execution_count": 42,
   "id": "eea8ed67-26af-4901-961e-b9b18b68581b",
   "metadata": {},
   "outputs": [
    {
     "name": "stdout",
     "output_type": "stream",
     "text": [
      "                                             text\n",
      "0               check link example com great info\n",
      "1  python latest version python released december\n",
      "2      email example example com details exciting\n",
      "3     price worth every penny visit http shop com\n",
      "4                        contact us visit website\n"
     ]
    }
   ],
   "source": [
    "# Remove stopwords\n",
    "stop_words = set(stopwords.words('english'))\n",
    "df['text'] = df['text'].apply(lambda x :' '.join([ word for word in x.split() if word not in stop_words]))\n",
    "print(df)"
   ]
  },
  {
   "cell_type": "markdown",
   "id": "71364947-d737-48e0-b8c3-dfae5f334504",
   "metadata": {},
   "source": [
    "**We have removed stopwords and cleaned the sentences. Let's create BOW from python library**"
   ]
  },
  {
   "cell_type": "markdown",
   "id": "19d6ad97-9ebe-44e0-be38-0aad72bf3a60",
   "metadata": {},
   "source": [
    "It's important to understand What is **module**, **class** and **object**."
   ]
  },
  {
   "cell_type": "code",
   "execution_count": 45,
   "id": "abb22266-4f50-4e66-8897-d3a176c9398f",
   "metadata": {},
   "outputs": [],
   "source": [
    "from sklearn.feature_extraction.text import CountVectorizer\n"
   ]
  },
  {
   "cell_type": "markdown",
   "id": "f24dc2c2-971e-4831-acac-8cef627c158d",
   "metadata": {},
   "source": [
    "* This line imports the **CountVectorizer class** from the **sklearn.feature_extraction.text module.**"
   ]
  },
  {
   "cell_type": "code",
   "execution_count": null,
   "id": "0e901b76-a5c2-4318-a877-d05fb59dfe24",
   "metadata": {},
   "outputs": [],
   "source": [
    "vectorizer = CountVectorizer()"
   ]
  },
  {
   "cell_type": "markdown",
   "id": "89023b9f-9a2c-4e8c-ab51-035ec02a3b9f",
   "metadata": {},
   "source": [
    "* We ahve created an insatnce of CountVectorizer class without passing any additional paarmerts. That means the object gets created with default values"
   ]
  },
  {
   "cell_type": "code",
   "execution_count": null,
   "id": "b517d4c4-a624-4d52-aa0d-0b7203964352",
   "metadata": {},
   "outputs": [],
   "source": [
    "X = vectorizer.fit_transform(df['text'])"
   ]
  },
  {
   "cell_type": "markdown",
   "id": "8df15cd8-2822-4b21-af6f-30d10cfc7a4f",
   "metadata": {},
   "source": [
    "Certainly:\n",
    "\n",
    "* You can split `fit_transform` into two separate operations: `fit` and `transform`.\n",
    "* The `fit` method constructs a vocabulary from the provided text data.We did this step manually in wlp_2\n",
    "* Subsequently, the `transform` method converts text into vectors or matrices once the vocabulary is established."
   ]
  },
  {
   "cell_type": "markdown",
   "id": "ce84ef15-2de2-4231-b779-ddc15214fc64",
   "metadata": {},
   "source": [
    "* Utilize `print(X)` to observe the transformation of text into vectors by `fit_transform()`. This method retains data in a sparse matrix format.\n",
    "* Implement `print(X.toarray())` to visualize the conversion of the sparse matrix into a readable and dense format."
   ]
  },
  {
   "cell_type": "code",
   "execution_count": 48,
   "id": "fc451170-286e-4c81-bbd5-075c87b26b33",
   "metadata": {},
   "outputs": [
    {
     "data": {
      "text/plain": [
       "(                                             text\n",
       " 0               check link example com great info\n",
       " 1  python latest version python released december\n",
       " 2      email example example com details exciting\n",
       " 3     price worth every penny visit http shop com\n",
       " 4                        contact us visit website,\n",
       "    check  com  contact  december  details  email  every  example  exciting  \\\n",
       " 0      1    1        0         0        0      0      0        1         0   \n",
       " 1      0    0        0         1        0      0      0        0         0   \n",
       " 2      0    1        0         0        1      1      0        2         1   \n",
       " 3      0    1        0         0        0      0      1        0         0   \n",
       " 4      0    0        1         0        0      0      0        0         0   \n",
       " \n",
       "    great  ...  penny  price  python  released  shop  us  version  visit  \\\n",
       " 0      1  ...      0      0       0         0     0   0        0      0   \n",
       " 1      0  ...      0      0       2         1     0   0        1      0   \n",
       " 2      0  ...      0      0       0         0     0   0        0      0   \n",
       " 3      0  ...      1      1       0         0     1   0        0      1   \n",
       " 4      0  ...      0      0       0         0     0   1        0      1   \n",
       " \n",
       "    website  worth  \n",
       " 0        0      0  \n",
       " 1        0      0  \n",
       " 2        0      0  \n",
       " 3        0      1  \n",
       " 4        1      0  \n",
       " \n",
       " [5 rows x 24 columns])"
      ]
     },
     "execution_count": 48,
     "metadata": {},
     "output_type": "execute_result"
    }
   ],
   "source": [
    "bow_df = pd.DataFrame(X.toarray(), columns=vectorizer.get_feature_names_out())\n",
    "\n",
    "df, bow_df"
   ]
  }
 ],
 "metadata": {
  "kernelspec": {
   "display_name": "Python 3 (ipykernel)",
   "language": "python",
   "name": "python3"
  },
  "language_info": {
   "codemirror_mode": {
    "name": "ipython",
    "version": 3
   },
   "file_extension": ".py",
   "mimetype": "text/x-python",
   "name": "python",
   "nbconvert_exporter": "python",
   "pygments_lexer": "ipython3",
   "version": "3.12.3"
  }
 },
 "nbformat": 4,
 "nbformat_minor": 5
}
